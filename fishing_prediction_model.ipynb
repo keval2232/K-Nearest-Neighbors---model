{
  "nbformat": 4,
  "nbformat_minor": 0,
  "metadata": {
    "colab": {
      "name": "fishing_prediction_model.ipynb",
      "provenance": [],
      "collapsed_sections": []
    },
    "kernelspec": {
      "name": "python3",
      "display_name": "Python 3"
    },
    "language_info": {
      "name": "python"
    }
  },
  "cells": [
    {
      "cell_type": "code",
      "metadata": {
        "id": "WTAknr6JwPEj"
      },
      "source": [
        "#import of libraries\n",
        "import numpy as np\n",
        "import pandas as pd\n",
        "import matplotlib.pyplot as plt\n",
        "import itertools\n",
        "from matplotlib.ticker import NullFormatter\n",
        "import matplotlib.ticker as ticker\n",
        "from sklearn import preprocessing\n",
        "%matplotlib inline\n"
      ],
      "execution_count": null,
      "outputs": []
    },
    {
      "cell_type": "markdown",
      "metadata": {
        "id": "PBop0MQZ2OzM"
      },
      "source": [
        "#here i used dataset from web that is fish and it about length,height,width of fishes and their spices "
      ]
    },
    {
      "cell_type": "code",
      "metadata": {
        "id": "A-G9PCq2w7dd"
      },
      "source": [
        "from google.colab import files \n",
        "uploaded = files.upload()"
      ],
      "execution_count": null,
      "outputs": []
    },
    {
      "cell_type": "markdown",
      "metadata": {
        "id": "loL4dWtF4fIf"
      },
      "source": [
        "#Data frame creation using pandas "
      ]
    },
    {
      "cell_type": "code",
      "metadata": {
        "id": "bu8joZISxBer"
      },
      "source": [
        "df=pd.read_csv('Fish.csv')\n",
        "df.head()"
      ],
      "execution_count": null,
      "outputs": []
    },
    {
      "cell_type": "markdown",
      "metadata": {
        "id": "_QCC_ANR4j9I"
      },
      "source": [
        "#seeing diffrent colums of dataset (dataframe)"
      ]
    },
    {
      "cell_type": "code",
      "metadata": {
        "id": "JYLKCpAHxPI_"
      },
      "source": [
        "df.columns"
      ],
      "execution_count": null,
      "outputs": []
    },
    {
      "cell_type": "markdown",
      "metadata": {
        "id": "2uZVOhyi5X9-"
      },
      "source": [
        "#chossing features and target for model\n",
        "<br>\n",
        "#as here we see Species is target and all other colums are featurs for target prediction"
      ]
    },
    {
      "cell_type": "code",
      "metadata": {
        "id": "BvIlIgZCxRMZ"
      },
      "source": [
        "x=df[[ 'Weight', 'Length1', 'Length2', 'Length3', 'Height',\n",
        "       'Width']].values\n",
        "y=df[['Species']].values       \n",
        "x[0:5]"
      ],
      "execution_count": null,
      "outputs": []
    },
    {
      "cell_type": "code",
      "metadata": {
        "id": "3jFGAoXcyCtu"
      },
      "source": [
        "df['Species'].value_counts()\n",
        "#here we see names of diffrent classes "
      ],
      "execution_count": null,
      "outputs": []
    },
    {
      "cell_type": "code",
      "metadata": {
        "id": "OVxS3kOuxqUA"
      },
      "source": [
        "from sklearn import preprocessing\n",
        "#here we give each class label like 0,1,2,3...... so that model prediction become easy"
      ],
      "execution_count": null,
      "outputs": []
    },
    {
      "cell_type": "code",
      "metadata": {
        "id": "LPP2oGvkxtFs"
      },
      "source": [
        "le_spe = preprocessing.LabelEncoder()\n",
        "le_spe.fit(['Perch','Bream','Roach','Pike','Smelt','Parkki','Whitefish'])\n",
        "y[:,0]=le_spe.transform(y[:,0])"
      ],
      "execution_count": null,
      "outputs": []
    },
    {
      "cell_type": "code",
      "metadata": {
        "id": "NAMp8zt4y9IO"
      },
      "source": [
        "y[0:5]\n",
        "df.columns"
      ],
      "execution_count": null,
      "outputs": []
    },
    {
      "cell_type": "code",
      "metadata": {
        "id": "_B5hyZSIzIef"
      },
      "source": [
        "#here we see diffrent vizliztion of data \n",
        "df.hist(column='Weight', bins=50)"
      ],
      "execution_count": null,
      "outputs": []
    },
    {
      "cell_type": "code",
      "metadata": {
        "id": "G564-fcNzZE8"
      },
      "source": [
        "#here we see diffrent vizliztion of data \n",
        "df.hist(column='Length1', bins=50)"
      ],
      "execution_count": null,
      "outputs": []
    },
    {
      "cell_type": "code",
      "metadata": {
        "id": "nHadlCOXzdK-"
      },
      "source": [
        "#here we see diffrent vizliztion of data \n",
        "df.hist(column='Length2', bins=50)"
      ],
      "execution_count": null,
      "outputs": []
    },
    {
      "cell_type": "code",
      "metadata": {
        "id": "tPYJmIPIzhdm"
      },
      "source": [
        "#here we see diffrent vizliztion of data \n",
        "df.hist(column='Length3', bins=50)"
      ],
      "execution_count": null,
      "outputs": []
    },
    {
      "cell_type": "code",
      "metadata": {
        "id": "b7uwoqhGzjOk"
      },
      "source": [
        "#here we see diffrent vizliztion of data \n",
        "df.hist(column='Height', bins=50)"
      ],
      "execution_count": null,
      "outputs": []
    },
    {
      "cell_type": "code",
      "metadata": {
        "id": "q-fOkQBAzscv"
      },
      "source": [
        ""
      ],
      "execution_count": null,
      "outputs": []
    },
    {
      "cell_type": "code",
      "metadata": {
        "id": "tZerNIE-zmbW"
      },
      "source": [
        "#here we see diffrent vizliztion of data \n",
        "df.hist(column='Width', bins=50)"
      ],
      "execution_count": null,
      "outputs": []
    },
    {
      "cell_type": "code",
      "metadata": {
        "id": "lRDvadtYzw9S"
      },
      "source": [
        "#here we split data set in two parts i.train_set ii.test_set\n",
        "from sklearn.model_selection import train_test_split\n",
        "x_train,x_test,y_train,y_test = train_test_split(x,y,test_size=0.2,random_state=4)"
      ],
      "execution_count": null,
      "outputs": []
    },
    {
      "cell_type": "code",
      "metadata": {
        "id": "EKbw6HF0z0S8"
      },
      "source": [
        "\n",
        "\n",
        "#x=preprocessing.StandardScaler().fit(x).transform(x.astype(float))\n",
        "x[0:5]\n",
        "print(x_train.shape)\n",
        "print(y_train.shape)\n",
        "print(x_train[0:5])\n",
        "print(y_train[0:5])\n"
      ],
      "execution_count": null,
      "outputs": []
    },
    {
      "cell_type": "code",
      "metadata": {
        "id": "Y7ILCbxQz3ir"
      },
      "source": [
        "print(x_test.shape)\n",
        "print(y_test.shape)"
      ],
      "execution_count": null,
      "outputs": []
    },
    {
      "cell_type": "code",
      "metadata": {
        "id": "pinfAWzIz6VV"
      },
      "source": [
        "#now we built classifre model\n",
        "from sklearn.neighbors import KNeighborsClassifier"
      ],
      "execution_count": null,
      "outputs": []
    },
    {
      "cell_type": "markdown",
      "metadata": {
        "id": "7WevT4kM74B8"
      },
      "source": [
        "#here we do some experiment with diffrent values of K so that we can find best k for prediction "
      ]
    },
    {
      "cell_type": "code",
      "metadata": {
        "id": "eFgfehHR0Ge6"
      },
      "source": [
        "k =4 \n",
        "model_4 = KNeighborsClassifier(n_neighbors=k).fit(x_train,y_train)\n",
        "model_4"
      ],
      "execution_count": null,
      "outputs": []
    },
    {
      "cell_type": "code",
      "metadata": {
        "id": "ygD3nYz00wuZ"
      },
      "source": [
        "yhat_4 = model_4.predict(x_test)\n",
        "yhat_4[0:5]"
      ],
      "execution_count": null,
      "outputs": []
    },
    {
      "cell_type": "code",
      "metadata": {
        "id": "neOfbbf603kT"
      },
      "source": [
        "#here we crate antor mode with diffrent value of k\n",
        "k=9\n",
        "model_9 = KNeighborsClassifier(n_neighbors=k).fit(x_train,y_train)\n",
        "model_9\n",
        "yhat_9 = model_9.predict(x_test)\n",
        "yhat_9[0:5]"
      ],
      "execution_count": null,
      "outputs": []
    },
    {
      "cell_type": "markdown",
      "metadata": {
        "id": "vNQiqwDy8AcL"
      },
      "source": [
        "<h3>Model evlaualtion"
      ]
    },
    {
      "cell_type": "code",
      "metadata": {
        "id": "OfUj087O06Ok"
      },
      "source": [
        "from sklearn import metrics"
      ],
      "execution_count": null,
      "outputs": []
    },
    {
      "cell_type": "code",
      "metadata": {
        "id": "8zaarn0208w3"
      },
      "source": [
        "print(\"Train and test accuaracy for k=4\")\n",
        "print(\"Train accuaracy: \",metrics.accuracy_score(y_train,model_4.predict(x_train)))\n",
        "print(\"Test accuaracy :\" ,metrics.accuracy_score(y_test,yhat_4))"
      ],
      "execution_count": null,
      "outputs": []
    },
    {
      "cell_type": "code",
      "metadata": {
        "id": "TfYGy9Sb0_bD"
      },
      "source": [
        "print(\"Train and test accuaracy for k=9\")\n",
        "print(\"Train accuaracy: \",metrics.accuracy_score(y_train,model_9.predict(x_train)))\n",
        "print(\"Test accuaracy :\" ,metrics.accuracy_score(y_test,yhat_9))\n"
      ],
      "execution_count": null,
      "outputs": []
    },
    {
      "cell_type": "code",
      "metadata": {
        "id": "l-gF2pIo1CW_"
      },
      "source": [
        "Ks = 80\n",
        "mean_acc = np.zeros((Ks-1))\n",
        "std_acc = np.zeros((Ks-1))\n",
        "ConfustionMx = [];\n",
        "for n in range(1,Ks):\n",
        "    \n",
        "    #Train Model and Predict  \n",
        "    model =  KNeighborsClassifier(n_neighbors = n).fit(x_train,y_train)\n",
        "    yhat=model.predict(x_test)\n",
        "    mean_acc[n-1] = metrics.accuracy_score(y_test, yhat)\n",
        "\n",
        "    \n",
        "    std_acc[n-1]=np.std(yhat==y_test)/np.sqrt(yhat.shape[0])\n",
        "\n",
        "mean_acc"
      ],
      "execution_count": null,
      "outputs": []
    },
    {
      "cell_type": "code",
      "metadata": {
        "id": "dWCOkGVD1F-P"
      },
      "source": [
        "plt.plot(range(1,Ks),mean_acc,'g')\n",
        "plt.fill_between(range(1,Ks),mean_acc - 1 * std_acc,mean_acc + 1 * std_acc, alpha=0.10)\n",
        "plt.legend(('Accuracy ', '+/- 3xstd'))\n",
        "plt.ylabel('Accuracy ')\n",
        "plt.xlabel('Number of Nabors (K)')\n",
        "plt.tight_layout()\n",
        "plt.show()"
      ],
      "execution_count": null,
      "outputs": []
    },
    {
      "cell_type": "code",
      "metadata": {
        "id": "0wmgZSbr1JAD"
      },
      "source": [
        "print( \"The best accuracy was with\", mean_acc.max(), \"with k=\", mean_acc.argmax()+1) "
      ],
      "execution_count": null,
      "outputs": []
    }
  ]
}