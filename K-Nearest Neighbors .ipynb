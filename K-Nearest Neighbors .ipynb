{
 "cells": [
  {
   "cell_type": "markdown",
   "metadata": {},
   "source": [
    "<b> Installation section </b>"
   ]
  },
  {
   "cell_type": "code",
   "execution_count": null,
   "metadata": {},
   "outputs": [],
   "source": [
    "!pip install pandas\n",
    "!pip install numpy\n",
    "!pip install matplotlib\n",
    "!pip install sklearn\n"
   ]
  },
  {
   "cell_type": "markdown",
   "metadata": {},
   "source": [
    "<b> Import libraries </b>"
   ]
  },
  {
   "cell_type": "code",
   "execution_count": null,
   "metadata": {},
   "outputs": [],
   "source": [
    "import numpy as np\n",
    "import pandas as pd\n",
    "import matplotlib.pyplot as plt\n",
    "from matplotlib.ticker import NullFormatter\n",
    "import matplotlib.ticker as ticker\n",
    "from sklearn import preprocessing \n",
    "from sklearn.model_selection import  train_test_split\n",
    "from sklearn.neighbors import KNeighborsClassifier\n",
    "from sklearn import metrics\n",
    "%matplotlib inline"
   ]
  },
  {
   "cell_type": "code",
   "execution_count": null,
   "metadata": {},
   "outputs": [],
   "source": [
    "# data set to dataframe \n",
    "df=pd.read_csv('teleCust1000t.csv')\n",
    "df.head()"
   ]
  },
  {
   "cell_type": "markdown",
   "metadata": {},
   "source": [
    "<b> Data visulation and analysis </b>"
   ]
  },
  {
   "cell_type": "code",
   "execution_count": null,
   "metadata": {},
   "outputs": [],
   "source": [
    "df['custcat'].value_counts()\n",
    "'''3:- Plus services 1:- Basic services 2:- E-service customers 4:-Total services  '''"
   ]
  },
  {
   "cell_type": "code",
   "execution_count": null,
   "metadata": {},
   "outputs": [],
   "source": [
    "df.hist(column='income',bins=50)\n",
    "df.hist(column='age')\n"
   ]
  },
  {
   "cell_type": "code",
   "execution_count": null,
   "metadata": {},
   "outputs": [],
   "source": [
    "df.columns # to see columns in  data set\n",
    "'''colums = 'region', 'tenure', 'age', 'marital', 'address', 'income', 'ed',\n",
    "       'employ', 'retire', 'gender', 'reside', 'custcat'],'''\n",
    "df[0:5]"
   ]
  },
  {
   "cell_type": "code",
   "execution_count": null,
   "metadata": {},
   "outputs": [],
   "source": [
    "y=df['custcat'].values # dependent variable \n",
    "y[0:5]\n"
   ]
  },
  {
   "cell_type": "code",
   "execution_count": null,
   "metadata": {},
   "outputs": [],
   "source": [
    "X=df[['region','tenure','age','marital','address','income','ed','employ','retire','gender','reside']].values # dependet variables\n",
    "X[0:5]"
   ]
  },
  {
   "cell_type": "code",
   "execution_count": null,
   "metadata": {},
   "outputs": [],
   "source": [
    "X=preprocessing.StandardScaler().fit(X).transform(X.astype(float))\n",
    "X[0:5]"
   ]
  },
  {
   "cell_type": "markdown",
   "metadata": {},
   "source": [
    "<b> Data fitting </b>"
   ]
  },
  {
   "cell_type": "code",
   "execution_count": null,
   "metadata": {},
   "outputs": [],
   "source": [
    "x_train,x_test,y_train,y_test=train_test_split(X,y,test_size=0.2,random_state=4)\n",
    "print('Train Set : X=',x_train.shape,'Y=',y_train.shape)\n",
    "print('Test Set: x_test=',x_test.shape,'y_test=',y_test.shape)"
   ]
  },
  {
   "cell_type": "markdown",
   "metadata": {},
   "source": [
    "<b> Traing and testing of model </b>\n"
   ]
  },
  {
   "cell_type": "code",
   "execution_count": null,
   "metadata": {},
   "outputs": [],
   "source": [
    "# Here taking k=3 as random for basic model\n",
    "k=3\n",
    "model_3=KNeighborsClassifier(n_neighbors=k).fit(x_train,y_train)\n",
    "model_3"
   ]
  },
  {
   "cell_type": "code",
   "execution_count": null,
   "metadata": {},
   "outputs": [],
   "source": [
    "#Model prediction for k=3 \n",
    "y_predict_model_3=model_3.predict(x_test)\n",
    "y_predict_model_3[0:5]"
   ]
  },
  {
   "cell_type": "code",
   "execution_count": null,
   "metadata": {},
   "outputs": [],
   "source": [
    "print(\"Train set Accuracy for k=3: \", metrics.accuracy_score(y_train, model_3.predict(x_train)))\n",
    "print(\"Test set Accuracy for k=3: \", metrics.accuracy_score(y_test, y_predict_model_3))"
   ]
  },
  {
   "cell_type": "code",
   "execution_count": null,
   "metadata": {},
   "outputs": [],
   "source": [
    "# now here i am taking k=4 to see what is effect on accuaracy\n",
    "k=4\n",
    "model_4=KNeighborsClassifier(n_neighbors=k).fit(x_train,y_train)\n",
    "model_4"
   ]
  },
  {
   "cell_type": "code",
   "execution_count": null,
   "metadata": {},
   "outputs": [],
   "source": [
    "y_predict_model_4=model_4.predict(x_test)\n",
    "y_predict_model_4[0:5]\n",
    "#accuaracy of model\n",
    "print(\"Train set Accuracy for k=3: \", metrics.accuracy_score(y_train, model_4.predict(x_train)))\n",
    "print(\"Test set Accuracy for k=3: \", metrics.accuracy_score(y_test, y_predict_model_4))"
   ]
  },
  {
   "cell_type": "markdown",
   "metadata": {},
   "source": [
    "<p> As here we can see that accuaracy of model is changeed when we change k so we need to find best k for best accuarracy </p>"
   ]
  },
  {
   "cell_type": "code",
   "execution_count": null,
   "metadata": {},
   "outputs": [],
   "source": [
    "Ks=10 #800 #100  # max K= 800 because data has total 800 records \n",
    "mean_accuaracy = np.zeros((Ks-1))\n",
    "#print(mean_accuaracy)\n",
    "std_accuaracy=np.zeros((Ks-1))\n",
    "Confustion_Matrix = []\n",
    "for n in range (1,Ks):\n",
    "    model=KNeighborsClassifier(n_neighbors=n).fit(x_train,y_train)\n",
    "    y_predict=model.predict(x_test)\n",
    "    mean_accuaracy[n-1]=metrics.accuracy_score(y_test,y_predict)\n",
    "    std_accuaracy[n-1]=np.std(y_predict==y_test)/np.sqrt(y_predict.shape[0])\n",
    "mean_accuaracy    "
   ]
  },
  {
   "cell_type": "code",
   "execution_count": null,
   "metadata": {},
   "outputs": [],
   "source": [
    "# here we created visulation about it\n",
    "plt.plot(range(1,Ks),mean_accuaracy,'g')\n",
    "plt.fill_between(range(1,Ks),mean_accuaracy-1 * std_accuaracy,mean_accuaracy +1 * std_accuaracy,alpha=0.10)\n",
    "plt.legend(('Accuracy ', '+/- 3xstd'))\n",
    "plt.ylabel('Accuracy ')\n",
    "plt.xlabel('Number of Nabors (K)')\n",
    "plt.tight_layout()\n",
    "plt.show()"
   ]
  },
  {
   "cell_type": "code",
   "execution_count": null,
   "metadata": {},
   "outputs": [],
   "source": [
    "print( \"The best accuracy was with\", mean_accuaracy.max(), \"with k=\", mean_accuaracy.argmax()+1) "
   ]
  }
 ],
 "metadata": {
  "kernelspec": {
   "display_name": "Python 3",
   "language": "python",
   "name": "python3"
  },
  "language_info": {
   "codemirror_mode": {
    "name": "ipython",
    "version": 3
   },
   "file_extension": ".py",
   "mimetype": "text/x-python",
   "name": "python",
   "nbconvert_exporter": "python",
   "pygments_lexer": "ipython3",
   "version": "3.8.5"
  }
 },
 "nbformat": 4,
 "nbformat_minor": 4
}
